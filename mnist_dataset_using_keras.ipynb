{
  "cells": [
    {
      "cell_type": "markdown",
      "metadata": {
        "id": "t7QPwcIyKxpX"
      },
      "source": [
        "\n",
        "**The MNIST data set, or the Modified National Institute of Standards and Technology :**\n",
        "\n",
        "Data set, is a large collection of handwritten images used to train computer vision and image processing models such as the CNN.\n",
        "\n",
        "It is a common data set to start with and is basically like the “hello world” data set of computer vision.\n",
        "\n",
        "The data set contains 60,000 training images and 10,000 testing images of\n",
        "handwritten digits 0-9, each with a dimension of 28x28 pixels."
      ]
    },
    {
      "cell_type": "code",
      "execution_count": 2,
      "metadata": {
        "id": "MuTpiSGhKTQi"
      },
      "outputs": [],
      "source": [
        "import tensorflow as tf\n",
        "import keras\n",
        "from keras.datasets import mnist"
      ]
    },
    {
      "cell_type": "code",
      "execution_count": 3,
      "metadata": {
        "id": "ntEHUPLvLf9G"
      },
      "outputs": [],
      "source": [
        "from keras.models import Sequential\n",
        "from keras.layers import Dense , Dropout , Flatten , Input\n",
        "from keras.layers import Conv2D, MaxPooling2D"
      ]
    },
    {
      "cell_type": "code",
      "execution_count": 4,
      "metadata": {
        "id": "3sTkoWXaMVDr"
      },
      "outputs": [],
      "source": [
        "from keras import backend as K\n",
        "import numpy as np"
      ]
    },
    {
      "cell_type": "markdown",
      "metadata": {
        "id": "xaQya1IxMizx"
      },
      "source": [
        "One pass of the entire data set through the model is called an **epoch**.\n",
        "\n",
        "The **batch size** is how many data entries pass through the model in one iteration.\n",
        "In this case, the training data passes through the model 128 entries at a time until all of the entries have passed through, marking the end of one epoch.\n",
        "\n",
        "The **number of classes** is 10 to represent\n",
        "each of the 10 digits from 0-9.\n",
        "These variables are also known as **hyperparameters** : parameters that are set before the training process"
      ]
    },
    {
      "cell_type": "code",
      "execution_count": 5,
      "metadata": {
        "id": "3r8a57VsMbgI"
      },
      "outputs": [],
      "source": [
        "batch_size = 128\n",
        "n_classes = 10\n",
        "n_epochs = 15\n",
        "im_row, im_col = 28,28\n"
      ]
    },
    {
      "cell_type": "code",
      "execution_count": 6,
      "metadata": {
        "colab": {
          "base_uri": "https://localhost:8080/"
        },
        "id": "lYP2ciivNlgT",
        "outputId": "947ffacf-9f3f-461c-a1ee-f3bd98af418d"
      },
      "outputs": [
        {
          "name": "stdout",
          "output_type": "stream",
          "text": [
            "Downloading data from https://storage.googleapis.com/tensorflow/tf-keras-datasets/mnist.npz\n",
            "11490434/11490434 [==============================] - 0s 0us/step\n"
          ]
        }
      ],
      "source": [
        "(xtrain , ytrain), (xtest, ytest)  =  mnist.load_data()"
      ]
    },
    {
      "cell_type": "code",
      "execution_count": 7,
      "metadata": {
        "id": "UXKUDULCN6B6"
      },
      "outputs": [],
      "source": [
        "import matplotlib.pyplot as plt\n",
        "%matplotlib inline"
      ]
    },
    {
      "cell_type": "code",
      "execution_count": 8,
      "metadata": {
        "colab": {
          "base_uri": "https://localhost:8080/",
          "height": 430
        },
        "id": "82_56F8WOB14",
        "outputId": "bbe8bf5f-d0e1-4fe6-8762-62419c3ccda3"
      },
      "outputs": [
        {
          "data": {
            "image/png": "[encoded data removed]",
            "text/plain": [
              "<Figure size 640x480 with 1 Axes>"
            ]
          },
          "metadata": {},
          "output_type": "display_data"
        }
      ],
      "source": [
        "plt.imshow(xtrain[1], cmap='gray')\n",
        "plt.show()"
      ]
    },
    {
      "cell_type": "code",
      "execution_count": 9,
      "metadata": {
        "colab": {
          "base_uri": "https://localhost:8080/"
        },
        "id": "0-auu80UORWo",
        "outputId": "5b60eb56-c0ab-4656-fae0-df5c08456527"
      },
      "outputs": [
        {
          "name": "stdout",
          "output_type": "stream",
          "text": [
            " Training dataset : (60000, 28, 28)\n",
            " Testing dataset : (10000, 28, 28)\n"
          ]
        }
      ],
      "source": [
        "print(f' Training dataset : {xtrain.shape}\\n Testing dataset : {xtest.shape}')"
      ]
    },
    {
      "cell_type": "markdown",
      "metadata": {
        "id": "eF132sxrP3hf"
      },
      "source": [
        "A property of images is that there are three dimensions for color images and two for grey scale images.\n",
        "\n",
        "Grey scale images are simply row x column since they don’t have color\n",
        "channels.\n",
        "\n",
        "Color images, on the other hand, can be formatted as **row x column x channel**\n",
        "or **channel x row x column**.\n",
        "\n",
        "For color images, the variable channel is 3 because you want\n",
        "to know the pixel values for red, green, and blue (**RGB**)\n",
        "\n",
        "In this case, it’s grey scale, so no need to worry about the channel variable"
      ]
    },
    {
      "cell_type": "code",
      "execution_count": 10,
      "metadata": {
        "id": "zgLLaPnVO1mx"
      },
      "outputs": [],
      "source": [
        "if K.image_data_format() =='channels_first':\n",
        "  xtrain = xtrain.reshape(xtrain.shape[0], 1, im_row, im_col)\n",
        "  xtest = xtest.reshape(xtest.shape[0], 1, im_row, im_col)\n",
        "  input_shape=(1, im_row, im_col)\n",
        "else:\n",
        "  xtrain = xtrain.reshape(xtrain.shape[0], im_row, im_col , 1)\n",
        "  xtest = xtest.reshape(xtest.shape[0],  im_row, im_col , 1)\n",
        "  input_shape=( im_row, im_col , 1)\n"
      ]
    },
    {
      "cell_type": "markdown",
      "metadata": {
        "id": "urNgd4lOQ1fc"
      },
      "source": [
        "Converting x_train and x_test to float32 and applying min-max\n",
        "normalization by dividing by 255.\n",
        "\n",
        "For y_train and y_test,  convert them to a\n",
        "one-hot encoded format"
      ]
    },
    {
      "cell_type": "code",
      "execution_count": 11,
      "metadata": {
        "id": "iUx6welcQ2wM"
      },
      "outputs": [],
      "source": [
        "xtrain=xtrain.astype('float32')\n",
        "xtest=xtest.astype('float32')\n",
        "xtrain /= 255\n",
        "xtest /= 255\n"
      ]
    },
    {
      "cell_type": "code",
      "execution_count": 12,
      "metadata": {
        "id": "MjfwkaTHUWs6"
      },
      "outputs": [],
      "source": [
        "ytrain=keras.utils.to_categorical(ytrain, n_classes)\n",
        "ytest=keras.utils.to_categorical(ytest, n_classes)"
      ]
    },
    {
      "cell_type": "markdown",
      "metadata": {
        "id": "nfvJ5xZoU1gy"
      },
      "source": [
        "now  define a deep learning model and add layers to it"
      ]
    },
    {
      "cell_type": "code",
      "execution_count": 14,
      "metadata": {
        "id": "mh9wA2PoUn6R"
      },
      "outputs": [],
      "source": [
        "model = Sequential()\n",
        "model.add(Conv2D(32, kernel_size=(3,3), activation='relu', input_shape=input_shape))\n",
        "model.add(Conv2D(64, (3,3), activation='relu'))\n",
        "model.add(MaxPooling2D( pool_size= (2,2)))\n",
        "model.add(Dropout(0.25))\n",
        "model.add(Flatten())\n",
        "model.add(Dense(128, activation='relu'))\n",
        "model.add(Dropout(0.5))\n",
        "model.add(Dense(n_classes, activation='softmax'))"
      ]
    },
    {
      "cell_type": "code",
      "execution_count": null,
      "metadata": {
        "id": "L3XRKfwQsFYy"
      },
      "outputs": [],
      "source": [
        "from keras.losses  import CategoricalCrossentropy"
      ]
    },
    {
      "cell_type": "code",
      "execution_count": 15,
      "metadata": {
        "id": "AIE-hZKFr9XX"
      },
      "outputs": [],
      "source": [
        "model.compile(loss=keras.losses.categorical_crossentropy, optimizer=keras.optimizers.Adam(), metrics='accuracy')"
      ]
    },
    {
      "cell_type": "code",
      "execution_count": 19,
      "metadata": {
        "colab": {
          "base_uri": "https://localhost:8080/"
        },
        "id": "H_UvMHCftFbK",
        "outputId": "cd0c6ceb-4d73-4a77-c390-92e067596f1b"
      },
      "outputs": [
        {
          "name": "stdout",
          "output_type": "stream",
          "text": [
            "Model: \"sequential_1\"\n",
            "_________________________________________________________________\n",
            " Layer (type)                Output Shape              Param #   \n",
            "=================================================================\n",
            " conv2d (Conv2D)             (None, 26, 26, 32)        320       \n",
            "                                                                 \n",
            " conv2d_1 (Conv2D)           (None, 24, 24, 64)        18496     \n",
            "                                                                 \n",
            " max_pooling2d (MaxPooling2  (None, 12, 12, 64)        0         \n",
            " D)                                                              \n",
            "                                                                 \n",
            " dropout (Dropout)           (None, 12, 12, 64)        0         \n",
            "                                                                 \n",
            " flatten (Flatten)           (None, 9216)              0         \n",
            "                                                                 \n",
            " dense (Dense)               (None, 128)               1179776   \n",
            "                                                                 \n",
            " dropout_1 (Dropout)         (None, 128)               0         \n",
            "                                                                 \n",
            " dense_1 (Dense)             (None, 10)                1290      \n",
            "                                                                 \n",
            "=================================================================\n",
            "Total params: 1199882 (4.58 MB)\n",
            "Trainable params: 1199882 (4.58 MB)\n",
            "Non-trainable params: 0 (0.00 Byte)\n",
            "_________________________________________________________________\n"
          ]
        }
      ],
      "source": [
        "model.summary()"
      ]
    },
    {
      "cell_type": "code",
      "execution_count": 21,
      "metadata": {
        "id": "skGBgnbjvEBz"
      },
      "outputs": [],
      "source": [
        "from keras.callbacks import ModelCheckpoint"
      ]
    },
    {
      "cell_type": "code",
      "execution_count": 24,
      "metadata": {
        "id": "AAn01q43tJdh"
      },
      "outputs": [],
      "source": [
        "checkpoint= ModelCheckpoint(filepath='MNIST_using_keras.h5', verbose= 0, save_only_best=True)"
      ]
    },
    {
      "cell_type": "code",
      "execution_count": 25,
      "metadata": {
        "colab": {
          "base_uri": "https://localhost:8080/"
        },
        "id": "IbXdY0jeu7XX",
        "outputId": "163aa21f-836a-4024-aded-c416d04c3f07"
      },
      "outputs": [
        {
          "name": "stdout",
          "output_type": "stream",
          "text": [
            "Epoch 1/15\n",
            "469/469 [==============================] - 147s 309ms/step - loss: 0.2330 - accuracy: 0.9299 - val_loss: 0.0532 - val_accuracy: 0.9823\n",
            "Epoch 2/15\n"
          ]
        },
        {
          "name": "stderr",
          "output_type": "stream",
          "text": [
            "/usr/local/lib/python3.10/dist-packages/keras/src/engine/training.py:3103: UserWarning: You are saving your model as an HDF5 file via `model.save()`. This file format is considered legacy. We recommend using instead the native Keras format, e.g. `model.save('my_model.keras')`.\n",
            "  saving_api.save_model(\n"
          ]
        },
        {
          "name": "stdout",
          "output_type": "stream",
          "text": [
            "469/469 [==============================] - 140s 298ms/step - loss: 0.0828 - accuracy: 0.9751 - val_loss: 0.0366 - val_accuracy: 0.9876\n",
            "Epoch 3/15\n",
            "469/469 [==============================] - 141s 300ms/step - loss: 0.0618 - accuracy: 0.9809 - val_loss: 0.0389 - val_accuracy: 0.9870\n",
            "Epoch 4/15\n",
            "469/469 [==============================] - 138s 295ms/step - loss: 0.0513 - accuracy: 0.9843 - val_loss: 0.0339 - val_accuracy: 0.9891\n",
            "Epoch 5/15\n",
            "469/469 [==============================] - 139s 297ms/step - loss: 0.0438 - accuracy: 0.9865 - val_loss: 0.0278 - val_accuracy: 0.9909\n",
            "Epoch 6/15\n",
            "469/469 [==============================] - 144s 307ms/step - loss: 0.0391 - accuracy: 0.9879 - val_loss: 0.0284 - val_accuracy: 0.9917\n",
            "Epoch 7/15\n",
            "469/469 [==============================] - 142s 303ms/step - loss: 0.0339 - accuracy: 0.9890 - val_loss: 0.0258 - val_accuracy: 0.9920\n",
            "Epoch 8/15\n",
            "469/469 [==============================] - 143s 305ms/step - loss: 0.0300 - accuracy: 0.9905 - val_loss: 0.0300 - val_accuracy: 0.9925\n",
            "Epoch 9/15\n",
            "469/469 [==============================] - 136s 291ms/step - loss: 0.0256 - accuracy: 0.9912 - val_loss: 0.0271 - val_accuracy: 0.9923\n",
            "Epoch 10/15\n",
            "469/469 [==============================] - 137s 293ms/step - loss: 0.0246 - accuracy: 0.9919 - val_loss: 0.0252 - val_accuracy: 0.9931\n",
            "Epoch 11/15\n",
            "469/469 [==============================] - 138s 294ms/step - loss: 0.0222 - accuracy: 0.9928 - val_loss: 0.0260 - val_accuracy: 0.9919\n",
            "Epoch 12/15\n",
            "469/469 [==============================] - 137s 293ms/step - loss: 0.0219 - accuracy: 0.9929 - val_loss: 0.0284 - val_accuracy: 0.9920\n",
            "Epoch 13/15\n",
            "469/469 [==============================] - 139s 296ms/step - loss: 0.0193 - accuracy: 0.9935 - val_loss: 0.0244 - val_accuracy: 0.9931\n",
            "Epoch 14/15\n",
            "469/469 [==============================] - 139s 296ms/step - loss: 0.0188 - accuracy: 0.9939 - val_loss: 0.0280 - val_accuracy: 0.9923\n",
            "Epoch 15/15\n",
            "469/469 [==============================] - 139s 297ms/step - loss: 0.0172 - accuracy: 0.9943 - val_loss: 0.0301 - val_accuracy: 0.9925\n"
          ]
        },
        {
          "data": {
            "text/plain": [
              "<keras.src.callbacks.History at 0x7f0e4ffbf010>"
            ]
          },
          "execution_count": 25,
          "metadata": {},
          "output_type": "execute_result"
        }
      ],
      "source": [
        "model.fit(xtrain , ytrain ,\n",
        "          batch_size=batch_size,\n",
        "          epochs=n_epochs,\n",
        "          verbose=1,\n",
        "          validation_data=(xtest, ytest),\n",
        "          callbacks=[checkpoint])"
      ]
    },
    {
      "cell_type": "code",
      "execution_count": 26,
      "metadata": {
        "id": "X8wo4GbNwPNX"
      },
      "outputs": [],
      "source": [
        "from sklearn.metrics import roc_auc_score"
      ]
    },
    {
      "cell_type": "code",
      "execution_count": 27,
      "metadata": {
        "colab": {
          "base_uri": "https://localhost:8080/"
        },
        "id": "cx14kQly590T",
        "outputId": "e52733f0-0035-4709-fc8a-36da3e23e599"
      },
      "outputs": [
        {
          "name": "stdout",
          "output_type": "stream",
          "text": [
            "313/313 [==============================] - 13s 42ms/step\n"
          ]
        }
      ],
      "source": [
        "predicted_y=model.predict(xtest)"
      ]
    },
    {
      "cell_type": "code",
      "execution_count": 28,
      "metadata": {
        "id": "W6sCRAJx6Iuj"
      },
      "outputs": [],
      "source": [
        "auc=roc_auc_score(np.round(predicted_y), ytest)"
      ]
    },
    {
      "cell_type": "code",
      "execution_count": 29,
      "metadata": {
        "colab": {
          "base_uri": "https://localhost:8080/"
        },
        "id": "Yx22LysD6YHj",
        "outputId": "ed78f441-7a35-4ea0-89e3-9c57713317e2"
      },
      "outputs": [
        {
          "name": "stdout",
          "output_type": "stream",
          "text": [
            "AUC :  99.60%\n"
          ]
        }
      ],
      "source": [
        "print(f'AUC : {auc: 0.2%}')"
      ]
    },
    {
      "cell_type": "markdown",
      "metadata": {},
      "source": [
        "As the image passes through the convolutional layers, its dimensions get reduced \n",
        "and the patterns become more apparent."
      ]
    },
    {
      "cell_type": "code",
      "execution_count": 30,
      "metadata": {
        "id": "dLRJeZ1v6ehL"
      },
      "outputs": [],
      "source": [
        "from keras import models"
      ]
    },
    {
      "cell_type": "code",
      "execution_count": null,
      "metadata": {
        "colab": {
          "base_uri": "https://localhost:8080/"
        },
        "id": "W3XMuZSv60Tj",
        "outputId": "e643d93d-f512-4b18-9540-62c0f1967bdd"
      },
      "outputs": [
        {
          "name": "stdout",
          "output_type": "stream",
          "text": [
            "1311/1875 [===================>..........] - ETA: 21s"
          ]
        }
      ],
      "source": [
        "layers=[layer.output for layer in model.layers[:4]]\n",
        "model_layers=models.Model(inputs=model.input , outputs= layers)\n",
        "activations= model_layers.predict(xtrain)"
      ]
    },
    {
      "cell_type": "code",
      "execution_count": null,
      "metadata": {
        "id": "BpJGJezu8BZq"
      },
      "outputs": [],
      "source": []
    }
  ],
  "metadata": {
    "colab": {
      "provenance": []
    },
    "kernelspec": {
      "display_name": "Python 3",
      "name": "python3"
    },
    "language_info": {
      "name": "python"
    }
  },
  "nbformat": 4,
  "nbformat_minor": 0
}
